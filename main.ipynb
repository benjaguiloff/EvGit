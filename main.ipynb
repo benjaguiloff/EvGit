{
 "cells": [
  {
   "cell_type": "markdown",
   "metadata": {},
   "source": [
    "## Procesamiento de datos:"
   ]
  },
  {
   "cell_type": "markdown",
   "metadata": {},
   "source": [
    "En primer lugar, se cargan los datos mediante la librería `ujson`. Para visualizar y manejar de mejor manera los datos, se utiliza la librería `pandas`."
   ]
  },
  {
   "cell_type": "code",
   "execution_count": 2,
   "metadata": {},
   "outputs": [],
   "source": [
    "'''\n",
    "Código obtenido de https://stackoverflow.com/questions/63501251/how-to-open-ndjson-file-in-python\n",
    "'''\n",
    "# %pip install ujson\n",
    "# %pip install pandas\n",
    "\n",
    "import ujson as json\n",
    "import pandas as pd\n",
    "\n",
    "records = map(json.loads, open('data/farmers-protest-tweets-2021-03-5.json'))\n",
    "df = pd.DataFrame.from_records(records)"
   ]
  },
  {
   "cell_type": "code",
   "execution_count": 3,
   "metadata": {},
   "outputs": [
    {
     "data": {
      "text/html": [
       "<div>\n",
       "<style scoped>\n",
       "    .dataframe tbody tr th:only-of-type {\n",
       "        vertical-align: middle;\n",
       "    }\n",
       "\n",
       "    .dataframe tbody tr th {\n",
       "        vertical-align: top;\n",
       "    }\n",
       "\n",
       "    .dataframe thead th {\n",
       "        text-align: right;\n",
       "    }\n",
       "</style>\n",
       "<table border=\"1\" class=\"dataframe\">\n",
       "  <thead>\n",
       "    <tr style=\"text-align: right;\">\n",
       "      <th></th>\n",
       "      <th>url</th>\n",
       "      <th>date</th>\n",
       "      <th>content</th>\n",
       "      <th>renderedContent</th>\n",
       "      <th>id</th>\n",
       "      <th>user</th>\n",
       "      <th>outlinks</th>\n",
       "      <th>tcooutlinks</th>\n",
       "      <th>replyCount</th>\n",
       "      <th>retweetCount</th>\n",
       "      <th>...</th>\n",
       "      <th>quoteCount</th>\n",
       "      <th>conversationId</th>\n",
       "      <th>lang</th>\n",
       "      <th>source</th>\n",
       "      <th>sourceUrl</th>\n",
       "      <th>sourceLabel</th>\n",
       "      <th>media</th>\n",
       "      <th>retweetedTweet</th>\n",
       "      <th>quotedTweet</th>\n",
       "      <th>mentionedUsers</th>\n",
       "    </tr>\n",
       "  </thead>\n",
       "  <tbody>\n",
       "    <tr>\n",
       "      <th>0</th>\n",
       "      <td>https://twitter.com/ShashiRajbhar6/status/1376...</td>\n",
       "      <td>2021-03-30T03:33:46+00:00</td>\n",
       "      <td>Support 👇\\n\\n#FarmersProtest</td>\n",
       "      <td>Support 👇\\n\\n#FarmersProtest</td>\n",
       "      <td>1376739399593910273</td>\n",
       "      <td>{'username': 'ShashiRajbhar6', 'displayname': ...</td>\n",
       "      <td>[]</td>\n",
       "      <td>[]</td>\n",
       "      <td>0</td>\n",
       "      <td>0</td>\n",
       "      <td>...</td>\n",
       "      <td>0</td>\n",
       "      <td>1376739399593910273</td>\n",
       "      <td>en</td>\n",
       "      <td>&lt;a href=\"http://twitter.com/download/android\" ...</td>\n",
       "      <td>http://twitter.com/download/android</td>\n",
       "      <td>Twitter for Android</td>\n",
       "      <td>None</td>\n",
       "      <td>None</td>\n",
       "      <td>None</td>\n",
       "      <td>None</td>\n",
       "    </tr>\n",
       "    <tr>\n",
       "      <th>1</th>\n",
       "      <td>https://twitter.com/kaursuk06272818/status/137...</td>\n",
       "      <td>2021-03-30T03:33:23+00:00</td>\n",
       "      <td>Supporting farmers means supporting our countr...</td>\n",
       "      <td>Supporting farmers means supporting our countr...</td>\n",
       "      <td>1376739306287427584</td>\n",
       "      <td>{'username': 'kaursuk06272818', 'displayname':...</td>\n",
       "      <td>[]</td>\n",
       "      <td>[]</td>\n",
       "      <td>0</td>\n",
       "      <td>0</td>\n",
       "      <td>...</td>\n",
       "      <td>0</td>\n",
       "      <td>1376739306287427584</td>\n",
       "      <td>en</td>\n",
       "      <td>&lt;a href=\"http://twitter.com/download/android\" ...</td>\n",
       "      <td>http://twitter.com/download/android</td>\n",
       "      <td>Twitter for Android</td>\n",
       "      <td>[{'previewUrl': 'https://pbs.twimg.com/media/E...</td>\n",
       "      <td>None</td>\n",
       "      <td>None</td>\n",
       "      <td>None</td>\n",
       "    </tr>\n",
       "    <tr>\n",
       "      <th>2</th>\n",
       "      <td>https://twitter.com/kaursuk06272818/status/137...</td>\n",
       "      <td>2021-03-30T03:31:00+00:00</td>\n",
       "      <td>Support farmers if you are related to food #St...</td>\n",
       "      <td>Support farmers if you are related to food #St...</td>\n",
       "      <td>1376738704128020488</td>\n",
       "      <td>{'username': 'kaursuk06272818', 'displayname':...</td>\n",
       "      <td>[]</td>\n",
       "      <td>[]</td>\n",
       "      <td>0</td>\n",
       "      <td>0</td>\n",
       "      <td>...</td>\n",
       "      <td>0</td>\n",
       "      <td>1376738704128020488</td>\n",
       "      <td>en</td>\n",
       "      <td>&lt;a href=\"http://twitter.com/download/android\" ...</td>\n",
       "      <td>http://twitter.com/download/android</td>\n",
       "      <td>Twitter for Android</td>\n",
       "      <td>[{'previewUrl': 'https://pbs.twimg.com/media/E...</td>\n",
       "      <td>None</td>\n",
       "      <td>None</td>\n",
       "      <td>None</td>\n",
       "    </tr>\n",
       "  </tbody>\n",
       "</table>\n",
       "<p>3 rows × 21 columns</p>\n",
       "</div>"
      ],
      "text/plain": [
       "                                                 url  \\\n",
       "0  https://twitter.com/ShashiRajbhar6/status/1376...   \n",
       "1  https://twitter.com/kaursuk06272818/status/137...   \n",
       "2  https://twitter.com/kaursuk06272818/status/137...   \n",
       "\n",
       "                        date  \\\n",
       "0  2021-03-30T03:33:46+00:00   \n",
       "1  2021-03-30T03:33:23+00:00   \n",
       "2  2021-03-30T03:31:00+00:00   \n",
       "\n",
       "                                             content  \\\n",
       "0                       Support 👇\\n\\n#FarmersProtest   \n",
       "1  Supporting farmers means supporting our countr...   \n",
       "2  Support farmers if you are related to food #St...   \n",
       "\n",
       "                                     renderedContent                   id  \\\n",
       "0                       Support 👇\\n\\n#FarmersProtest  1376739399593910273   \n",
       "1  Supporting farmers means supporting our countr...  1376739306287427584   \n",
       "2  Support farmers if you are related to food #St...  1376738704128020488   \n",
       "\n",
       "                                                user outlinks tcooutlinks  \\\n",
       "0  {'username': 'ShashiRajbhar6', 'displayname': ...       []          []   \n",
       "1  {'username': 'kaursuk06272818', 'displayname':...       []          []   \n",
       "2  {'username': 'kaursuk06272818', 'displayname':...       []          []   \n",
       "\n",
       "   replyCount  retweetCount  ...  quoteCount       conversationId  lang  \\\n",
       "0           0             0  ...           0  1376739399593910273    en   \n",
       "1           0             0  ...           0  1376739306287427584    en   \n",
       "2           0             0  ...           0  1376738704128020488    en   \n",
       "\n",
       "                                              source  \\\n",
       "0  <a href=\"http://twitter.com/download/android\" ...   \n",
       "1  <a href=\"http://twitter.com/download/android\" ...   \n",
       "2  <a href=\"http://twitter.com/download/android\" ...   \n",
       "\n",
       "                             sourceUrl          sourceLabel  \\\n",
       "0  http://twitter.com/download/android  Twitter for Android   \n",
       "1  http://twitter.com/download/android  Twitter for Android   \n",
       "2  http://twitter.com/download/android  Twitter for Android   \n",
       "\n",
       "                                               media retweetedTweet  \\\n",
       "0                                               None           None   \n",
       "1  [{'previewUrl': 'https://pbs.twimg.com/media/E...           None   \n",
       "2  [{'previewUrl': 'https://pbs.twimg.com/media/E...           None   \n",
       "\n",
       "  quotedTweet mentionedUsers  \n",
       "0        None           None  \n",
       "1        None           None  \n",
       "2        None           None  \n",
       "\n",
       "[3 rows x 21 columns]"
      ]
     },
     "execution_count": 3,
     "metadata": {},
     "output_type": "execute_result"
    }
   ],
   "source": [
    "df.head(3)"
   ]
  },
  {
   "cell_type": "markdown",
   "metadata": {},
   "source": [
    "## Top 10 tweets más retweeted:"
   ]
  },
  {
   "cell_type": "code",
   "execution_count": 4,
   "metadata": {},
   "outputs": [],
   "source": [
    "def top_tweets(data, top_n):\n",
    "    top_tweet = data.loc[data['retweetCount'].idxmax()]\n",
    "    # top_tweet_info = f'El tweet más retweeteado es: ' + f'\\\"{top_tweet[\"content\"]}\\\"'\n",
    "    top_tweet_info = df.nlargest(n=top_n, columns=['retweetCount'])\n",
    "    print(f'Los top {top_n} tweets más retwiteados son los siguientes:')\n",
    "    return top_tweet_info\n"
   ]
  },
  {
   "cell_type": "code",
   "execution_count": 5,
   "metadata": {},
   "outputs": [],
   "source": [
    "# top_tweets(df, 10)"
   ]
  },
  {
   "cell_type": "markdown",
   "metadata": {},
   "source": [
    "## Top 10 usuarios con más tweets:"
   ]
  },
  {
   "cell_type": "code",
   "execution_count": 6,
   "metadata": {},
   "outputs": [],
   "source": [
    "import numpy as np\n",
    "\n",
    "users_np = df['user'].to_numpy()\n",
    "\n",
    "users = []\n",
    "for user in users_np:\n",
    "    users.append(user['username'])\n",
    "\n",
    "unique, counts = np.unique(np.array(users), return_counts=True)\n",
    "d = dict(zip(unique, counts))\n",
    "\n",
    "def keyfunction(k):\n",
    "    return d[k]\n",
    "\n",
    "def top_users(top_n):\n",
    "    print(f'Los top {top_n} usuarios que han emitido más tweets son:')\n",
    "    for key in sorted(d, key=keyfunction, reverse=True)[:top_n]:\n",
    "        print(f'{key}: {d[key]} tweets')"
   ]
  },
  {
   "cell_type": "code",
   "execution_count": 7,
   "metadata": {},
   "outputs": [],
   "source": [
    "# top_users(10)"
   ]
  },
  {
   "cell_type": "markdown",
   "metadata": {},
   "source": [
    "## Top 10 días con más tweets"
   ]
  },
  {
   "cell_type": "code",
   "execution_count": 8,
   "metadata": {},
   "outputs": [],
   "source": [
    "dates_np = df['date'].to_numpy()\n",
    "\n",
    "date_list = []\n",
    "for date in dates_np:\n",
    "    date_list.append(date.split(\"T\")[0])\n",
    "\n",
    "unique, counts = np.unique(np.array(date_list), return_counts=True)\n",
    "d = dict(zip(unique, counts))\n",
    "\n",
    "def keyfunction(k):\n",
    "    return d[k]\n",
    "\n",
    "def top_dates(top_n):\n",
    "    print(f'Los top {top_n} días con más tweets son:')\n",
    "    for key in sorted(d, key=keyfunction, reverse=True)[:top_n]:\n",
    "        print(f'{key}: {d[key]} tweets')"
   ]
  },
  {
   "cell_type": "code",
   "execution_count": 9,
   "metadata": {},
   "outputs": [],
   "source": [
    "# top_dates(10)"
   ]
  },
  {
   "cell_type": "markdown",
   "metadata": {},
   "source": [
    "## Top 10 hashtags más usados:"
   ]
  },
  {
   "cell_type": "code",
   "execution_count": 77,
   "metadata": {},
   "outputs": [],
   "source": [
    "import re\n",
    "\n",
    "content_np = df['content'].to_numpy()\n",
    "\n",
    "lista_hashtags = []\n",
    "for content in content_np:\n",
    "    finded = re.findall(\"(?<!\\w)#\\w+\", content)\n",
    "    for elem in finded:\n",
    "        lista_hashtags.append(elem.upper())\n",
    "\n",
    "unique, counts = np.unique(np.array(lista_hashtags), return_counts=True)\n",
    "dict_hashtags = dict(zip(unique, counts))\n",
    "\n",
    "def keyfunction(k):\n",
    "    return dict_hashtags[k]\n",
    "\n",
    "def top_hashtags(top_n):\n",
    "    print(f'Los top {top_n} hashtags más usados son son:')\n",
    "    for key in sorted(dict_hashtags, key=keyfunction, reverse=True)[:top_n]:\n",
    "        print(f'{key}: {dict_hashtags[key]} veces')"
   ]
  },
  {
   "cell_type": "code",
   "execution_count": 78,
   "metadata": {},
   "outputs": [
    {
     "name": "stdout",
     "output_type": "stream",
     "text": [
      "Los top 10 hashtags más usados son son:\n",
      "#FARMERSPROTEST: 425951 veces\n",
      "#ISTANDWITHFARMERS: 17086 veces\n",
      "#INDIANFARMERSHUMANRIGHTS: 12176 veces\n",
      "#STANDWITHFARMERS: 11468 veces\n",
      "#FARMERSAREINDIA: 11139 veces\n",
      "#RIHANNA: 9490 veces\n",
      "#FARMERSPROTESTS: 8910 veces\n",
      "#FARMERS: 8704 veces\n",
      "#INDIA: 6629 veces\n",
      "#SHAMEONBOLLYWOOD: 6445 veces\n"
     ]
    }
   ],
   "source": [
    "top_hashtags(10)"
   ]
  },
  {
   "cell_type": "markdown",
   "metadata": {},
   "source": [
    "## Main"
   ]
  },
  {
   "cell_type": "code",
   "execution_count": null,
   "metadata": {},
   "outputs": [],
   "source": [
    "def main():\n",
    "    pass"
   ]
  }
 ],
 "metadata": {
  "interpreter": {
   "hash": "d26da507ce9d961633de38ded91b18175013edc9aec806f6b18e3092a6a1a3be"
  },
  "kernelspec": {
   "display_name": "Python 3.10.1 64-bit",
   "language": "python",
   "name": "python3"
  },
  "language_info": {
   "codemirror_mode": {
    "name": "ipython",
    "version": 3
   },
   "file_extension": ".py",
   "mimetype": "text/x-python",
   "name": "python",
   "nbconvert_exporter": "python",
   "pygments_lexer": "ipython3",
   "version": "3.10.1"
  },
  "orig_nbformat": 4
 },
 "nbformat": 4,
 "nbformat_minor": 2
}
