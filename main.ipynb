{
 "cells": [
  {
   "cell_type": "markdown",
   "metadata": {},
   "source": [
    "## Procesamiento de datos:"
   ]
  },
  {
   "cell_type": "markdown",
   "metadata": {},
   "source": [
    "En primer lugar, se cargan los datos mediante la librería `ujson`. Para visualizar y manejar de mejor manera los datos, se utiliza la librería `pandas`."
   ]
  },
  {
   "cell_type": "code",
   "execution_count": 2,
   "metadata": {},
   "outputs": [],
   "source": [
    "'''\n",
    "Código obtenido de https://stackoverflow.com/questions/63501251/how-to-open-ndjson-file-in-python\n",
    "'''\n",
    "# %pip install ujson\n",
    "# %pip install pandas\n",
    "\n",
    "import ujson as json\n",
    "import pandas as pd\n",
    "\n",
    "records = map(json.loads, open('data/farmers-protest-tweets-2021-03-5.json'))\n",
    "df = pd.DataFrame.from_records(records)"
   ]
  },
  {
   "cell_type": "code",
   "execution_count": 3,
   "metadata": {},
   "outputs": [],
   "source": [
    "# df.head()"
   ]
  },
  {
   "cell_type": "markdown",
   "metadata": {},
   "source": [
    "## Top 10 tweets más retweeted:"
   ]
  },
  {
   "cell_type": "code",
   "execution_count": 4,
   "metadata": {},
   "outputs": [],
   "source": [
    "def top_tweets(data, top_n):\n",
    "    top_tweet = data.loc[data['retweetCount'].idxmax()]\n",
    "    # top_tweet_info = f'El tweet más retweeteado es: ' + f'\\\"{top_tweet[\"content\"]}\\\"'\n",
    "    top_tweet_info = df.nlargest(n=top_n, columns=['retweetCount'])\n",
    "    print(f'Los top {top_n} tweets más retwiteados son los siguientes:')\n",
    "    return top_tweet_info\n"
   ]
  },
  {
   "cell_type": "code",
   "execution_count": 5,
   "metadata": {},
   "outputs": [],
   "source": [
    "# top_tweets(df, 10)"
   ]
  },
  {
   "cell_type": "markdown",
   "metadata": {},
   "source": [
    "## Top 10 usuarios con más tweets:"
   ]
  },
  {
   "cell_type": "code",
   "execution_count": 19,
   "metadata": {},
   "outputs": [],
   "source": [
    "import numpy as np\n",
    "\n",
    "users_np = df['user'].to_numpy()\n",
    "\n",
    "users = []\n",
    "for user in users_np:\n",
    "    users.append(user['username'])\n",
    "\n",
    "unique, counts = np.unique(np.array(users), return_counts=True)\n",
    "d = dict(zip(unique, counts))\n",
    "\n",
    "def keyfunction(k):\n",
    "    return d[k]\n",
    "\n",
    "def top_users(top_n):\n",
    "    print(f'Los top {top_n} usuarios que han emitido más tweets son:')\n",
    "    for key in sorted(d, key=keyfunction, reverse=True)[:top_n]:\n",
    "        print(f'{key}: {d[key]} tweets')"
   ]
  },
  {
   "cell_type": "code",
   "execution_count": 20,
   "metadata": {},
   "outputs": [
    {
     "name": "stdout",
     "output_type": "stream",
     "text": [
      "Los top 10 usuarios que han emitido más tweets son:\n",
      "harjot_tweeting: 7134 tweets\n",
      "tasveersandhu: 2091 tweets\n",
      "shells_n_petals: 1991 tweets\n",
      "jot__b: 1841 tweets\n",
      "rebelpacifist: 1806 tweets\n",
      "rumsomal: 1722 tweets\n",
      "Iamjazzie96: 1502 tweets\n",
      "Jass_k_G: 1460 tweets\n",
      "DigitalKisanBot: 1453 tweets\n",
      "z_khalique007: 1446 tweets\n"
     ]
    }
   ],
   "source": [
    "top_users(10)"
   ]
  },
  {
   "cell_type": "markdown",
   "metadata": {},
   "source": [
    "## Main"
   ]
  },
  {
   "cell_type": "code",
   "execution_count": null,
   "metadata": {},
   "outputs": [],
   "source": [
    "def main():\n",
    "    pass"
   ]
  }
 ],
 "metadata": {
  "interpreter": {
   "hash": "d26da507ce9d961633de38ded91b18175013edc9aec806f6b18e3092a6a1a3be"
  },
  "kernelspec": {
   "display_name": "Python 3.10.1 64-bit",
   "language": "python",
   "name": "python3"
  },
  "language_info": {
   "codemirror_mode": {
    "name": "ipython",
    "version": 3
   },
   "file_extension": ".py",
   "mimetype": "text/x-python",
   "name": "python",
   "nbconvert_exporter": "python",
   "pygments_lexer": "ipython3",
   "version": "3.10.1"
  },
  "orig_nbformat": 4
 },
 "nbformat": 4,
 "nbformat_minor": 2
}
